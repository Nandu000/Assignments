{
  "nbformat": 4,
  "nbformat_minor": 0,
  "metadata": {
    "colab": {
      "name": "5.\tWrite a Python program to remove a newline in Python.",
      "provenance": [],
      "authorship_tag": "ABX9TyOF8Vzm/HFxA9jWMZP/l4M/",
      "include_colab_link": true
    },
    "kernelspec": {
      "name": "python3",
      "display_name": "Python 3"
    }
  },
  "cells": [
    {
      "cell_type": "markdown",
      "metadata": {
        "id": "view-in-github",
        "colab_type": "text"
      },
      "source": [
        "<a href=\"https://colab.research.google.com/github/Nandu000/Assignments/blob/master/5_%09Write_a_Python_program_to_remove_a_newline_in_Python_.ipynb\" target=\"_parent\"><img src=\"https://colab.research.google.com/assets/colab-badge.svg\" alt=\"Open In Colab\"/></a>"
      ]
    },
    {
      "cell_type": "code",
      "metadata": {
        "id": "AKT0uobSToTU",
        "colab_type": "code",
        "colab": {
          "base_uri": "https://localhost:8080/",
          "height": 67
        },
        "outputId": "fdfc1930-3e21-4bcb-ec25-1a6112d0004d"
      },
      "source": [
        "str1='Python Exercises\\n'\n",
        "print(str1)\n",
        "print(str1.rstrip())"
      ],
      "execution_count": 1,
      "outputs": [
        {
          "output_type": "stream",
          "text": [
            "Python Exercises\n",
            "\n",
            "Python Exercises\n"
          ],
          "name": "stdout"
        }
      ]
    }
  ]
}