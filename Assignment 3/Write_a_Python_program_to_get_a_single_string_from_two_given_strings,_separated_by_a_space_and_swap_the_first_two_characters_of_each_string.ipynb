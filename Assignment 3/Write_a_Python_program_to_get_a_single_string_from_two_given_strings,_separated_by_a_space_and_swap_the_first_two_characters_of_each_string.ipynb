{
  "nbformat": 4,
  "nbformat_minor": 0,
  "metadata": {
    "colab": {
      "name": "Write a Python program to get a single string from two given strings, separated by a space and swap the first two characters of each string",
      "provenance": [],
      "authorship_tag": "ABX9TyPCGCY8fx8y4HMtqpVaytPt",
      "include_colab_link": true
    },
    "kernelspec": {
      "name": "python3",
      "display_name": "Python 3"
    }
  },
  "cells": [
    {
      "cell_type": "markdown",
      "metadata": {
        "id": "view-in-github",
        "colab_type": "text"
      },
      "source": [
        "<a href=\"https://colab.research.google.com/github/Nandu000/Assignments/blob/master/Write_a_Python_program_to_get_a_single_string_from_two_given_strings%2C_separated_by_a_space_and_swap_the_first_two_characters_of_each_string.ipynb\" target=\"_parent\"><img src=\"https://colab.research.google.com/assets/colab-badge.svg\" alt=\"Open In Colab\"/></a>"
      ]
    },
    {
      "cell_type": "code",
      "metadata": {
        "id": "oxtuNiFFVQee",
        "colab_type": "code",
        "colab": {
          "base_uri": "https://localhost:8080/",
          "height": 34
        },
        "outputId": "e0ab0ff8-8e5c-4858-9c0b-c975ff3a6ad7"
      },
      "source": [
        "def chars_mix_up(a, b):\n",
        "  new_a = b[:2] + a[2:]\n",
        "  new_b = a[:2] + b[2:]\n",
        "\n",
        "  return new_a + ' ' + new_b\n",
        "print(chars_mix_up('abc', 'xyz'))"
      ],
      "execution_count": 1,
      "outputs": [
        {
          "output_type": "stream",
          "text": [
            "xyc abz\n"
          ],
          "name": "stdout"
        }
      ]
    }
  ]
}