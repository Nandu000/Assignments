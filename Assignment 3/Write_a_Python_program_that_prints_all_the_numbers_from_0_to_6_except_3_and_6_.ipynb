{
  "nbformat": 4,
  "nbformat_minor": 0,
  "metadata": {
    "colab": {
      "name": "Write a Python program that prints all the numbers from 0 to 6 except 3 and 6. ",
      "provenance": [],
      "authorship_tag": "ABX9TyNGoV65jQHxVpQuLFMYxv80",
      "include_colab_link": true
    },
    "kernelspec": {
      "name": "python3",
      "display_name": "Python 3"
    }
  },
  "cells": [
    {
      "cell_type": "markdown",
      "metadata": {
        "id": "view-in-github",
        "colab_type": "text"
      },
      "source": [
        "<a href=\"https://colab.research.google.com/github/Nandu000/Assignments/blob/master/Write_a_Python_program_that_prints_all_the_numbers_from_0_to_6_except_3_and_6_.ipynb\" target=\"_parent\"><img src=\"https://colab.research.google.com/assets/colab-badge.svg\" alt=\"Open In Colab\"/></a>"
      ]
    },
    {
      "cell_type": "code",
      "metadata": {
        "id": "kE0A8e7yALK2",
        "colab_type": "code",
        "colab": {
          "base_uri": "https://localhost:8080/",
          "height": 50
        },
        "outputId": "9a55a8b5-14f8-4049-f650-2b81c633d65e"
      },
      "source": [
        "for x in range(6):\n",
        "    if (x == 3 or x==6):\n",
        "        continue\n",
        "    print(x,end=' ')\n",
        "print(\"\\n\")"
      ],
      "execution_count": 1,
      "outputs": [
        {
          "output_type": "stream",
          "text": [
            "0 1 2 4 5 \n",
            "\n"
          ],
          "name": "stdout"
        }
      ]
    }
  ]
}