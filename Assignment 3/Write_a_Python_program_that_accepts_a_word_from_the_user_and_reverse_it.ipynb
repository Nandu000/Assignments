{
  "nbformat": 4,
  "nbformat_minor": 0,
  "metadata": {
    "colab": {
      "name": "Write a Python program that accepts a word from the user and reverse it ",
      "provenance": [],
      "authorship_tag": "ABX9TyOuK6u5/juFvSTftC4mQR6c",
      "include_colab_link": true
    },
    "kernelspec": {
      "name": "python3",
      "display_name": "Python 3"
    }
  },
  "cells": [
    {
      "cell_type": "markdown",
      "metadata": {
        "id": "view-in-github",
        "colab_type": "text"
      },
      "source": [
        "<a href=\"https://colab.research.google.com/github/Nandu000/Assignments/blob/master/Write_a_Python_program_that_accepts_a_word_from_the_user_and_reverse_it.ipynb\" target=\"_parent\"><img src=\"https://colab.research.google.com/assets/colab-badge.svg\" alt=\"Open In Colab\"/></a>"
      ]
    },
    {
      "cell_type": "code",
      "metadata": {
        "id": "EG3TmYHw9HPY",
        "colab_type": "code",
        "colab": {
          "base_uri": "https://localhost:8080/",
          "height": 67
        },
        "outputId": "b4221f4b-a285-4bc3-be71-db2178a9103c"
      },
      "source": [
        "word = input(\"Input a word to reverse: \")\n",
        " \n",
        "for char in range(len(word) - 1, -1, -1):\n",
        "  print(word[char], end=\"\")\n",
        "print(\"\\n\")\n",
        " "
      ],
      "execution_count": 3,
      "outputs": [
        {
          "output_type": "stream",
          "text": [
            "Input a word to reverse: nandi\n",
            "idnan\n",
            "\n"
          ],
          "name": "stdout"
        }
      ]
    }
  ]
}