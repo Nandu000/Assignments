{
  "nbformat": 4,
  "nbformat_minor": 0,
  "metadata": {
    "colab": {
      "name": "10.\tWrite a program to find the length of the string \"refrigerator\" without using len function. 10.\tWrite a program to find the length of the string \"refrigerator\" without using len function. ",
      "provenance": [],
      "authorship_tag": "ABX9TyO8nl/BMYUdA77pCunPD8W9",
      "include_colab_link": true
    },
    "kernelspec": {
      "name": "python3",
      "display_name": "Python 3"
    }
  },
  "cells": [
    {
      "cell_type": "markdown",
      "metadata": {
        "id": "view-in-github",
        "colab_type": "text"
      },
      "source": [
        "<a href=\"https://colab.research.google.com/github/Nandu000/Assignments/blob/master/10_%09Write_a_program_to_find_the_length_of_the_string_%22refrigerator%22_without_using_len_function_10_%09Write_a_program_to_find_the_length_of_the_string_%22refrigerator%22_without_using_len_function_.ipynb\" target=\"_parent\"><img src=\"https://colab.research.google.com/assets/colab-badge.svg\" alt=\"Open In Colab\"/></a>"
      ]
    },
    {
      "cell_type": "code",
      "metadata": {
        "id": "uljKjpmkiURz",
        "colab_type": "code",
        "colab": {
          "base_uri": "https://localhost:8080/",
          "height": 34
        },
        "outputId": "603784c2-4b73-406a-8c46-dbade1b18b1b"
      },
      "source": [
        "str='refrigerator'\n",
        "count=0\n",
        "for i in str:\n",
        "   count=count+1\n",
        "print('length:',count)"
      ],
      "execution_count": 1,
      "outputs": [
        {
          "output_type": "stream",
          "text": [
            "length: 12\n"
          ],
          "name": "stdout"
        }
      ]
    }
  ]
}