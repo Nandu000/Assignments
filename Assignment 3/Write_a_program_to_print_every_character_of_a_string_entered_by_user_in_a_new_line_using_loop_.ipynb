{
  "nbformat": 4,
  "nbformat_minor": 0,
  "metadata": {
    "colab": {
      "name": "9.\tWrite a program to print every character of a string entered by user in a new line using loop. ",
      "provenance": [],
      "authorship_tag": "ABX9TyMa66It4lpF07ZEn/RB69J+",
      "include_colab_link": true
    },
    "kernelspec": {
      "name": "python3",
      "display_name": "Python 3"
    }
  },
  "cells": [
    {
      "cell_type": "markdown",
      "metadata": {
        "id": "view-in-github",
        "colab_type": "text"
      },
      "source": [
        "<a href=\"https://colab.research.google.com/github/Nandu000/Assignments/blob/master/9_%09Write_a_program_to_print_every_character_of_a_string_entered_by_user_in_a_new_line_using_loop_.ipynb\" target=\"_parent\"><img src=\"https://colab.research.google.com/assets/colab-badge.svg\" alt=\"Open In Colab\"/></a>"
      ]
    },
    {
      "cell_type": "code",
      "metadata": {
        "id": "_aLy3sRBjQn5",
        "colab_type": "code",
        "colab": {
          "base_uri": "https://localhost:8080/",
          "height": 235
        },
        "outputId": "33445155-9674-475f-a2ad-3c107f32b36e"
      },
      "source": [
        "s=input('enter string:')\n",
        "for i in s:\n",
        "  print(i)"
      ],
      "execution_count": 1,
      "outputs": [
        {
          "output_type": "stream",
          "text": [
            "enter string:nandi redddy\n",
            "n\n",
            "a\n",
            "n\n",
            "d\n",
            "i\n",
            " \n",
            "r\n",
            "e\n",
            "d\n",
            "d\n",
            "d\n",
            "y\n"
          ],
          "name": "stdout"
        }
      ]
    }
  ]
}