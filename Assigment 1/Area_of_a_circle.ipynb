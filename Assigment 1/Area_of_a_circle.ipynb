{
  "nbformat": 4,
  "nbformat_minor": 0,
  "metadata": {
    "colab": {
      "name": "Area of a  circle ",
      "provenance": [],
      "authorship_tag": "ABX9TyM4xSrbECrzsH5CKbjVKo0Q",
      "include_colab_link": true
    },
    "kernelspec": {
      "name": "python3",
      "display_name": "Python 3"
    }
  },
  "cells": [
    {
      "cell_type": "markdown",
      "metadata": {
        "id": "view-in-github",
        "colab_type": "text"
      },
      "source": [
        "<a href=\"https://colab.research.google.com/github/Nandu000/Assignments/blob/master/Area_of_a_circle.ipynb\" target=\"_parent\"><img src=\"https://colab.research.google.com/assets/colab-badge.svg\" alt=\"Open In Colab\"/></a>"
      ]
    },
    {
      "cell_type": "code",
      "metadata": {
        "id": "BoVxgUl_oFkL",
        "colab_type": "code",
        "colab": {
          "base_uri": "https://localhost:8080/",
          "height": 50
        },
        "outputId": "4fe84943-9aa2-49e8-ef4e-d375b3625159"
      },
      "source": [
        "PI = 3.14\n",
        "radius = float(input(' Enter the radius of a circle: '))\n",
        "area = PI * radius * radius\n",
        "print(\" Area Of a Circle = %.2f\" %area)"
      ],
      "execution_count": 1,
      "outputs": [
        {
          "output_type": "stream",
          "text": [
            " Enter the radius of a circle: 8\n",
            " Area Of a Circle = 200.96\n"
          ],
          "name": "stdout"
        }
      ]
    }
  ]
}