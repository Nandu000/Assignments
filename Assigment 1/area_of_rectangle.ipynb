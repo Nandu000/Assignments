{
  "nbformat": 4,
  "nbformat_minor": 0,
  "metadata": {
    "colab": {
      "name": "area of rectangle",
      "provenance": [],
      "authorship_tag": "ABX9TyOGPe7mueTzZkfwdLjyMKwe",
      "include_colab_link": true
    },
    "kernelspec": {
      "name": "python3",
      "display_name": "Python 3"
    }
  },
  "cells": [
    {
      "cell_type": "markdown",
      "metadata": {
        "id": "view-in-github",
        "colab_type": "text"
      },
      "source": [
        "<a href=\"https://colab.research.google.com/github/Nandu000/Hello-wold/blob/master/area_of_rectangle.ipynb\" target=\"_parent\"><img src=\"https://colab.research.google.com/assets/colab-badge.svg\" alt=\"Open In Colab\"/></a>"
      ]
    },
    {
      "cell_type": "code",
      "metadata": {
        "id": "XTUJ6QJPmaau",
        "colab_type": "code",
        "colab": {
          "base_uri": "https://localhost:8080/",
          "height": 84
        },
        "outputId": "d56c5557-c4c3-41b1-b07a-f60cd32c4966"
      },
      "source": [
        "\n",
        "width = float(input('Please Enter the Width of a Rectangle: '))\n",
        "height = float(input('Please Enter the Height of a Rectangle: '))\n",
        "Area = width * height\n",
        "print(\"\\n Area of a Rectangle is: %.2f\" %Area)\n"
      ],
      "execution_count": 2,
      "outputs": [
        {
          "output_type": "stream",
          "text": [
            "Please Enter the Width of a Rectangle: 35\n",
            "Please Enter the Height of a Rectangle: 56\n",
            "\n",
            " Area of a Rectangle is: 1960.00\n"
          ],
          "name": "stdout"
        }
      ]
    }
  ]
}