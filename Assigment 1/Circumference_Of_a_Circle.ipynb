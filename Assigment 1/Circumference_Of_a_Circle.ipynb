{
  "nbformat": 4,
  "nbformat_minor": 0,
  "metadata": {
    "colab": {
      "name": "Circumference Of a Circle",
      "provenance": [],
      "authorship_tag": "ABX9TyPG6xMaETGS4jhOvxhjiBpO",
      "include_colab_link": true
    },
    "kernelspec": {
      "name": "python3",
      "display_name": "Python 3"
    }
  },
  "cells": [
    {
      "cell_type": "markdown",
      "metadata": {
        "id": "view-in-github",
        "colab_type": "text"
      },
      "source": [
        "<a href=\"https://colab.research.google.com/github/Nandu000/Hello-wold/blob/master/Circumference_Of_a_Circle.ipynb\" target=\"_parent\"><img src=\"https://colab.research.google.com/assets/colab-badge.svg\" alt=\"Open In Colab\"/></a>"
      ]
    },
    {
      "cell_type": "code",
      "metadata": {
        "id": "Ofi74oESp4PQ",
        "colab_type": "code",
        "colab": {
          "base_uri": "https://localhost:8080/",
          "height": 50
        },
        "outputId": "15e7f395-f4fc-4de7-af4f-e72ac6c4c2ad"
      },
      "source": [
        "PI = 3.14\n",
        "radius = float(input(' Please Enter the radius of a circle: '))\n",
        "circumference = 2 * PI * radius\n",
        "print(\" Circumference Of a Circle = %.2f\" %circumference)"
      ],
      "execution_count": 1,
      "outputs": [
        {
          "output_type": "stream",
          "text": [
            " Please Enter the radius of a circle: 9\n",
            " Circumference Of a Circle = 56.52\n"
          ],
          "name": "stdout"
        }
      ]
    }
  ]
}