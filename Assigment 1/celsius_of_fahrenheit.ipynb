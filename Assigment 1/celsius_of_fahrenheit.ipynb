{
  "nbformat": 4,
  "nbformat_minor": 0,
  "metadata": {
    "colab": {
      "name": "celsius of fahrenheit",
      "provenance": [],
      "authorship_tag": "ABX9TyO1ipMEF1witfHpBKOeygex",
      "include_colab_link": true
    },
    "kernelspec": {
      "name": "python3",
      "display_name": "Python 3"
    }
  },
  "cells": [
    {
      "cell_type": "markdown",
      "metadata": {
        "id": "view-in-github",
        "colab_type": "text"
      },
      "source": [
        "<a href=\"https://colab.research.google.com/github/Nandu000/Hello-wold/blob/master/celsius_of_fahrenheit.ipynb\" target=\"_parent\"><img src=\"https://colab.research.google.com/assets/colab-badge.svg\" alt=\"Open In Colab\"/></a>"
      ]
    },
    {
      "cell_type": "code",
      "metadata": {
        "id": "G-rIXuGAnRCS",
        "colab_type": "code",
        "colab": {
          "base_uri": "https://localhost:8080/",
          "height": 50
        },
        "outputId": "caf9ff53-b826-4e13-beaf-d29e2058a0c2"
      },
      "source": [
        "temperature = float(input(\"Please enter temperature in fahrenheit:\"))\n",
        "celsius = (temperature - 32) * 5 / 9\n",
        "print(\"Temperature in celsius: \" , celsius)"
      ],
      "execution_count": 1,
      "outputs": [
        {
          "output_type": "stream",
          "text": [
            "Please enter temperature in fahrenheit:94.8\n",
            "Temperature in celsius:  34.888888888888886\n"
          ],
          "name": "stdout"
        }
      ]
    }
  ]
}