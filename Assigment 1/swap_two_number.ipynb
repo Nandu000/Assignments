{
  "nbformat": 4,
  "nbformat_minor": 0,
  "metadata": {
    "colab": {
      "name": "swap two number",
      "provenance": [],
      "authorship_tag": "ABX9TyPrOCYQ69TU+cHNal/VppSk",
      "include_colab_link": true
    },
    "kernelspec": {
      "name": "python3",
      "display_name": "Python 3"
    }
  },
  "cells": [
    {
      "cell_type": "markdown",
      "metadata": {
        "id": "view-in-github",
        "colab_type": "text"
      },
      "source": [
        "<a href=\"https://colab.research.google.com/github/Nandu000/Hello-wold/blob/master/swap_two_number.ipynb\" target=\"_parent\"><img src=\"https://colab.research.google.com/assets/colab-badge.svg\" alt=\"Open In Colab\"/></a>"
      ]
    },
    {
      "cell_type": "code",
      "metadata": {
        "id": "A-lK2nURqcYT",
        "colab_type": "code",
        "colab": {
          "base_uri": "https://localhost:8080/",
          "height": 118
        },
        "outputId": "c622b5a0-0e86-4a9c-ae42-1505ccd402fa"
      },
      "source": [
        "num1 = input('Enter First Number: ')\n",
        "num2 = input('Enter Second Number: ')\n",
        "\n",
        "print(\"Value of num1 before swapping: \", num1)\n",
        "print(\"Value of num2 before swapping: \", num2)\n",
        "temp = num1\n",
        "num1 = num2\n",
        "num2 = temp\n",
        "print(\"Value of num1 after swapping: \", num1)\n",
        "print(\"Value of num2 after swapping: \", num2)"
      ],
      "execution_count": 1,
      "outputs": [
        {
          "output_type": "stream",
          "text": [
            "Enter First Number: 6\n",
            "Enter Second Number: 7\n",
            "Value of num1 before swapping:  6\n",
            "Value of num2 before swapping:  7\n",
            "Value of num1 after swapping:  7\n",
            "Value of num2 after swapping:  6\n"
          ],
          "name": "stdout"
        }
      ]
    }
  ]
}