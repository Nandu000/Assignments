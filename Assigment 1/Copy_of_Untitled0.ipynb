{
  "nbformat": 4,
  "nbformat_minor": 0,
  "metadata": {
    "colab": {
      "name": "Copy of Untitled0.ipynb",
      "provenance": [],
      "collapsed_sections": [],
      "authorship_tag": "ABX9TyMCaf+A014yJ5yYHEuryn+N",
      "include_colab_link": true
    },
    "kernelspec": {
      "name": "python3",
      "display_name": "Python 3"
    }
  },
  "cells": [
    {
      "cell_type": "markdown",
      "metadata": {
        "id": "view-in-github",
        "colab_type": "text"
      },
      "source": [
        "<a href=\"https://colab.research.google.com/github/Nandu000/Hello-wold/blob/master/Copy_of_Untitled0.ipynb\" target=\"_parent\"><img src=\"https://colab.research.google.com/assets/colab-badge.svg\" alt=\"Open In Colab\"/></a>"
      ]
    },
    {
      "cell_type": "code",
      "metadata": {
        "id": "CqpFUlzaeHzb",
        "colab_type": "code",
        "colab": {
          "base_uri": "https://localhost:8080/",
          "height": 168
        },
        "outputId": "20f912dd-dbf8-4e33-e20a-6b8a8b7f376c"
      },
      "source": [
        "num1 = int(input('Enter First number: '))\n",
        "num2 = int(input('Enter Second number '))\n",
        "add = num1 + num2\n",
        "dif = num1 - num2\n",
        "mul = num1 * num2\n",
        "div = num1 / num2\n",
        "floor_div = num1 // num2\n",
        "power = num1 ** num2\n",
        "modulus = num1 % num2\n",
        "print('Sum of ',num1 ,'and' ,num2 ,'is :',add)\n",
        "print('Difference of ',num1 ,'and' ,num2 ,'is :',dif)\n",
        "print('Product of' ,num1 ,'and' ,num2 ,'is :',mul)\n",
        "print('Division of ',num1 ,'and' ,num2 ,'is :',div)\n",
        "print('Floor Division of ',num1 ,'and' ,num2 ,'is :',floor_div)\n",
        "print('Exponent of ',num1 ,'and' ,num2 ,'is :',power)\n",
        "print('Modulus of ',num1 ,'and' ,num2 ,'is :',modulus)"
      ],
      "execution_count": null,
      "outputs": [
        {
          "output_type": "stream",
          "text": [
            "Enter First number: 9\n",
            "Enter Second number 3\n",
            "Sum of  9 and 3 is : 12\n",
            "Difference of  9 and 3 is : 6\n",
            "Product of 9 and 3 is : 27\n",
            "Division of  9 and 3 is : 3.0\n",
            "Floor Division of  9 and 3 is : 3\n",
            "Exponent of  9 and 3 is : 729\n",
            "Modulus of  9 and 3 is : 0\n"
          ],
          "name": "stdout"
        }
      ]
    }
  ]
}