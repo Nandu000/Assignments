{
  "nbformat": 4,
  "nbformat_minor": 0,
  "metadata": {
    "colab": {
      "name": "perimeter of square",
      "provenance": [],
      "authorship_tag": "ABX9TyPZEUnua26Yc8IfAqO1BCxc",
      "include_colab_link": true
    },
    "kernelspec": {
      "name": "python3",
      "display_name": "Python 3"
    }
  },
  "cells": [
    {
      "cell_type": "markdown",
      "metadata": {
        "id": "view-in-github",
        "colab_type": "text"
      },
      "source": [
        "<a href=\"https://colab.research.google.com/github/Nandu000/Hello-wold/blob/master/perimeter_of_square.ipynb\" target=\"_parent\"><img src=\"https://colab.research.google.com/assets/colab-badge.svg\" alt=\"Open In Colab\"/></a>"
      ]
    },
    {
      "cell_type": "code",
      "metadata": {
        "id": "bYwFBxz3ojBE",
        "colab_type": "code",
        "colab": {
          "base_uri": "https://localhost:8080/",
          "height": 84
        },
        "outputId": "ac82f946-0f35-446d-aebd-2c1bb8cc0f1e"
      },
      "source": [
        "print(\"Enter 'x' for exit.\");\n",
        "side = input(\"Enter side length of square: \");\n",
        "if side == 'x':\n",
        "    exit();\n",
        "else:\n",
        "    slength = int(side);\n",
        "    perimeter = 4*slength;\n",
        "    print(\"\\nPerimeter of Square =\", perimeter);"
      ],
      "execution_count": 1,
      "outputs": [
        {
          "output_type": "stream",
          "text": [
            "Enter 'x' for exit.\n",
            "Enter side length of square: 8\n",
            "\n",
            "Perimeter of Square = 32\n"
          ],
          "name": "stdout"
        }
      ]
    }
  ]
}