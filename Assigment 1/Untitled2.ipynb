{
  "nbformat": 4,
  "nbformat_minor": 0,
  "metadata": {
    "colab": {
      "name": "Untitled2.ipynb",
      "provenance": [],
      "authorship_tag": "ABX9TyNA9YGvIVVkLZlOF+HIFtOO",
      "include_colab_link": true
    },
    "kernelspec": {
      "name": "python3",
      "display_name": "Python 3"
    }
  },
  "cells": [
    {
      "cell_type": "markdown",
      "metadata": {
        "id": "view-in-github",
        "colab_type": "text"
      },
      "source": [
        "<a href=\"https://colab.research.google.com/github/Nandu000/Hello-wold/blob/master/Untitled2.ipynb\" target=\"_parent\"><img src=\"https://colab.research.google.com/assets/colab-badge.svg\" alt=\"Open In Colab\"/></a>"
      ]
    },
    {
      "cell_type": "code",
      "metadata": {
        "id": "_QEVpQ5DjSt0",
        "colab_type": "code",
        "colab": {
          "base_uri": "https://localhost:8080/",
          "height": 67
        },
        "outputId": "78d3c302-acd5-4b1d-9544-803c4e98b94c"
      },
      "source": [
        "\n",
        "\n",
        "Base = float(input('Enter base of a triangle: '))\n",
        "Height=float(input('Enter height of a triangle: '))\n",
        " \n",
        "area = (Base * Height) / 2\n",
        "print('The area of the triangle is %0.2f' % area)"
      ],
      "execution_count": 2,
      "outputs": [
        {
          "output_type": "stream",
          "text": [
            "Enter base of a triangle: 6\n",
            "Enter height of a triangle: 8\n",
            "The area of the triangle is 24.00\n"
          ],
          "name": "stdout"
        }
      ]
    }
  ]
}