{
  "nbformat": 4,
  "nbformat_minor": 0,
  "metadata": {
    "colab": {
      "name": "Write a python program to find greatest common divisor (GCD) or highest common factor (HCF) of given two numbers.",
      "provenance": [],
      "authorship_tag": "ABX9TyOibQdeqtdKc9VL2eBHFLA5",
      "include_colab_link": true
    },
    "kernelspec": {
      "name": "python3",
      "display_name": "Python 3"
    }
  },
  "cells": [
    {
      "cell_type": "markdown",
      "metadata": {
        "id": "view-in-github",
        "colab_type": "text"
      },
      "source": [
        "<a href=\"https://colab.research.google.com/github/Nandu000/Assignments/blob/master/Write_a_python_program_to_find_greatest_common_divisor_(GCD)_or_highest_common_factor_(HCF)_of_given_two_numbers_.ipynb\" target=\"_parent\"><img src=\"https://colab.research.google.com/assets/colab-badge.svg\" alt=\"Open In Colab\"/></a>"
      ]
    },
    {
      "cell_type": "code",
      "metadata": {
        "id": "NsmTs9XPCNu9",
        "colab_type": "code",
        "colab": {
          "base_uri": "https://localhost:8080/",
          "height": 84
        },
        "outputId": "49a5b17a-cfc1-4b20-ee4e-0976f73571da"
      },
      "source": [
        "a = float(input(\" Please Enter the First Value a: \"))\n",
        "b = float(input(\" Please Enter the Second Value b: \"))\n",
        "\n",
        "i = 1\n",
        "while(i <= a and i <= b):\n",
        "    if(a % i == 0 and b % i == 0):\n",
        "        gcd = i\n",
        "    i = i + 1\n",
        "    \n",
        "print(\"\\n HCF of {0} and {1} = {2}\".format(a, b, gcd))"
      ],
      "execution_count": 1,
      "outputs": [
        {
          "output_type": "stream",
          "text": [
            " Please Enter the First Value a: 6\n",
            " Please Enter the Second Value b: 7\n",
            "\n",
            " HCF of 6.0 and 7.0 = 1\n"
          ],
          "name": "stdout"
        }
      ]
    }
  ]
}