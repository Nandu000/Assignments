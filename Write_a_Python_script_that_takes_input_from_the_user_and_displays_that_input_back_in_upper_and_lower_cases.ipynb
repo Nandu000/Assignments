{
  "nbformat": 4,
  "nbformat_minor": 0,
  "metadata": {
    "colab": {
      "name": "Write a Python script that takes input from the user and displays that input back in upper and lower cases",
      "provenance": [],
      "authorship_tag": "ABX9TyOllf4rXa3PYUkQtTwkllEu",
      "include_colab_link": true
    },
    "kernelspec": {
      "name": "python3",
      "display_name": "Python 3"
    }
  },
  "cells": [
    {
      "cell_type": "markdown",
      "metadata": {
        "id": "view-in-github",
        "colab_type": "text"
      },
      "source": [
        "<a href=\"https://colab.research.google.com/github/Nandu000/Assignments/blob/master/Write_a_Python_script_that_takes_input_from_the_user_and_displays_that_input_back_in_upper_and_lower_cases.ipynb\" target=\"_parent\"><img src=\"https://colab.research.google.com/assets/colab-badge.svg\" alt=\"Open In Colab\"/></a>"
      ]
    },
    {
      "cell_type": "code",
      "metadata": {
        "id": "ml6168xlUEeV",
        "colab_type": "code",
        "colab": {
          "base_uri": "https://localhost:8080/",
          "height": 67
        },
        "outputId": "23563571-0dac-447d-f132-fa9bffa9e9f8"
      },
      "source": [
        "user_input = input(\"What's your favourite language? \")\n",
        "print(\"My favourite language is \", user_input.upper())\n",
        "print(\"My favourite language is \", user_input.lower())"
      ],
      "execution_count": 1,
      "outputs": [
        {
          "output_type": "stream",
          "text": [
            "What's your favourite language? python\n",
            "My favourite language is  PYTHON\n",
            "My favourite language is  python\n"
          ],
          "name": "stdout"
        }
      ]
    }
  ]
}