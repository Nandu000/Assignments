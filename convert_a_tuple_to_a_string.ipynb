{
  "nbformat": 4,
  "nbformat_minor": 0,
  "metadata": {
    "colab": {
      "name": "convert a tuple to a string.ipynb",
      "provenance": [],
      "authorship_tag": "ABX9TyNdXD4ujOuiNvM4rUIm488C",
      "include_colab_link": true
    },
    "kernelspec": {
      "name": "python3",
      "display_name": "Python 3"
    }
  },
  "cells": [
    {
      "cell_type": "markdown",
      "metadata": {
        "id": "view-in-github",
        "colab_type": "text"
      },
      "source": [
        "<a href=\"https://colab.research.google.com/github/Nandu000/Assignments/blob/master/convert_a_tuple_to_a_string.ipynb\" target=\"_parent\"><img src=\"https://colab.research.google.com/assets/colab-badge.svg\" alt=\"Open In Colab\"/></a>"
      ]
    },
    {
      "cell_type": "code",
      "metadata": {
        "id": "OyZHRi_JIwBm",
        "colab_type": "code",
        "colab": {
          "base_uri": "https://localhost:8080/",
          "height": 34
        },
        "outputId": "db51677a-e3c8-4428-bf82-82e2d7c24ba1"
      },
      "source": [
        "tup = ('n', 'a', 'n', 'd', 'i')\n",
        "str =  ''.join(tup)\n",
        "print(str)"
      ],
      "execution_count": 2,
      "outputs": [
        {
          "output_type": "stream",
          "text": [
            "nandi\n"
          ],
          "name": "stdout"
        }
      ]
    }
  ]
}