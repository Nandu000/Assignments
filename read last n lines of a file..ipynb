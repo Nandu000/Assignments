{
  "nbformat": 4,
  "nbformat_minor": 0,
  "metadata": {
    "colab": {
      "name": "Untitled15.ipynb",
      "provenance": [],
      "authorship_tag": "ABX9TyPaL+wIl1E0AyUho6EkstEn",
      "include_colab_link": true
    },
    "kernelspec": {
      "name": "python3",
      "display_name": "Python 3"
    }
  },
  "cells": [
    {
      "cell_type": "markdown",
      "metadata": {
        "id": "view-in-github",
        "colab_type": "text"
      },
      "source": [
        "<a href=\"https://colab.research.google.com/github/Nandu000/Assignments/blob/master/read%20last%20n%20lines%20of%20a%20file..ipynb\" target=\"_parent\"><img src=\"https://colab.research.google.com/assets/colab-badge.svg\" alt=\"Open In Colab\"/></a>"
      ]
    },
    {
      "cell_type": "code",
      "metadata": {
        "id": "_Yn_Dj8RaYMt",
        "colab_type": "code",
        "colab": {
          "base_uri": "https://localhost:8080/",
          "height": 67
        },
        "outputId": "831d6388-69f5-4aa1-d559-8ed907b07fbc"
      },
      "source": [
        "def read_last_lines(filename, no_of_lines=1):\n",
        "\tfile = open(filename,'r')\n",
        "\tlines = file.readlines()\n",
        "\tlast_lines = lines[-no_of_lines:]\n",
        "\tfor line in last_lines:\n",
        "\t\tprint(line)\n",
        "\tfile.close()\n",
        "if __name__ == \"__main__\":\n",
        "\tfilename = \"nandi.txt\"\n",
        "\tread_last_lines(filename,2)"
      ],
      "execution_count": 2,
      "outputs": [
        {
          "output_type": "stream",
          "text": [
            "narmada\n",
            "\n",
            "rajesh\n"
          ],
          "name": "stdout"
        }
      ]
    }
  ]
}