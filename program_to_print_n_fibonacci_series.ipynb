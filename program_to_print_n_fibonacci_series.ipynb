{
  "nbformat": 4,
  "nbformat_minor": 0,
  "metadata": {
    "colab": {
      "name": "program to print n fibonacci series",
      "provenance": [],
      "authorship_tag": "ABX9TyOx2yF+KherMTX2hGGmkNyQ",
      "include_colab_link": true
    },
    "kernelspec": {
      "name": "python3",
      "display_name": "Python 3"
    }
  },
  "cells": [
    {
      "cell_type": "markdown",
      "metadata": {
        "id": "view-in-github",
        "colab_type": "text"
      },
      "source": [
        "<a href=\"https://colab.research.google.com/github/Nandu000/Assignments/blob/master/program_to_print_n_fibonacci_series.ipynb\" target=\"_parent\"><img src=\"https://colab.research.google.com/assets/colab-badge.svg\" alt=\"Open In Colab\"/></a>"
      ]
    },
    {
      "cell_type": "code",
      "metadata": {
        "id": "o33SQp4pgGjL",
        "colab_type": "code",
        "colab": {
          "base_uri": "https://localhost:8080/",
          "height": 218
        },
        "outputId": "fbeca07c-a309-42f7-e7c8-10e58fec7745"
      },
      "source": [
        "n=int(input('enter the n value:'))\n",
        "print('the fibonacci series is:')\n",
        "first=0\n",
        "second=1\n",
        "if n==1:\n",
        "  print('0')\n",
        "if n==2:\n",
        "   print('0')\n",
        "   print('1')\n",
        "else:\n",
        "   i=1\n",
        "   print('0')\n",
        "   print('1')\n",
        "   while i<=n-2:\n",
        "     next=first+second\n",
        "     print(next)\n",
        "     first=second\n",
        "     second=next\n",
        "     i=i+1"
      ],
      "execution_count": 1,
      "outputs": [
        {
          "output_type": "stream",
          "text": [
            "enter the n value:10\n",
            "the fibonacci series is:\n",
            "0\n",
            "1\n",
            "1\n",
            "2\n",
            "3\n",
            "5\n",
            "8\n",
            "13\n",
            "21\n",
            "34\n"
          ],
          "name": "stdout"
        }
      ]
    }
  ]
}