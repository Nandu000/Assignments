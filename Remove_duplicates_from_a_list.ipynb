{
  "nbformat": 4,
  "nbformat_minor": 0,
  "metadata": {
    "colab": {
      "name": "Remove duplicates from a list.ipynb",
      "provenance": [],
      "authorship_tag": "ABX9TyMF1c0ip2OkU0nciPhmE4N5",
      "include_colab_link": true
    },
    "kernelspec": {
      "name": "python3",
      "display_name": "Python 3"
    }
  },
  "cells": [
    {
      "cell_type": "markdown",
      "metadata": {
        "id": "view-in-github",
        "colab_type": "text"
      },
      "source": [
        "<a href=\"https://colab.research.google.com/github/Nandu000/Assignments/blob/master/Remove_duplicates_from_a_list.ipynb\" target=\"_parent\"><img src=\"https://colab.research.google.com/assets/colab-badge.svg\" alt=\"Open In Colab\"/></a>"
      ]
    },
    {
      "cell_type": "code",
      "metadata": {
        "id": "8fox4h3PuzNL",
        "colab_type": "code",
        "colab": {
          "base_uri": "https://localhost:8080/",
          "height": 34
        },
        "outputId": "e0df265c-f116-48a1-ff54-1341ff6d563a"
      },
      "source": [
        "a = [10,20,30,20,10,50,60,40,80,50,40]\n",
        "dup_items = set()\n",
        "uniq_items = []\n",
        "for x in a:\n",
        "    if x not in dup_items:\n",
        "        uniq_items.append(x)\n",
        "        dup_items.add(x)\n",
        "print(dup_items)"
      ],
      "execution_count": 1,
      "outputs": [
        {
          "output_type": "stream",
          "text": [
            "{40, 10, 80, 50, 20, 60, 30}\n"
          ],
          "name": "stdout"
        }
      ]
    }
  ]
}