{
  "nbformat": 4,
  "nbformat_minor": 0,
  "metadata": {
    "colab": {
      "name": "get the file size of a plain file.ipynb",
      "provenance": [],
      "authorship_tag": "ABX9TyOAqn3IR3ZgxvYim/dxRLDw",
      "include_colab_link": true
    },
    "kernelspec": {
      "name": "python3",
      "display_name": "Python 3"
    }
  },
  "cells": [
    {
      "cell_type": "markdown",
      "metadata": {
        "id": "view-in-github",
        "colab_type": "text"
      },
      "source": [
        "<a href=\"https://colab.research.google.com/github/Nandu000/Assignments/blob/master/get_the_file_size_of_a_plain_file.ipynb\" target=\"_parent\"><img src=\"https://colab.research.google.com/assets/colab-badge.svg\" alt=\"Open In Colab\"/></a>"
      ]
    },
    {
      "cell_type": "code",
      "metadata": {
        "id": "c3k_HhZ4nFvh",
        "colab_type": "code",
        "colab": {
          "base_uri": "https://localhost:8080/",
          "height": 34
        },
        "outputId": "ac193eb0-8de0-4ba5-f2b4-0dfa006f3c41"
      },
      "source": [
        "def file_size(fname):\n",
        "        import os\n",
        "        statinfo = os.stat(fname)\n",
        "        return statinfo.st_size\n",
        "print(\"File size in bytes of a plain file: \",file_size(\"nandi.txt\"))"
      ],
      "execution_count": 1,
      "outputs": [
        {
          "output_type": "stream",
          "text": [
            "File size in bytes of a plain file:  43\n"
          ],
          "name": "stdout"
        }
      ]
    }
  ]
}