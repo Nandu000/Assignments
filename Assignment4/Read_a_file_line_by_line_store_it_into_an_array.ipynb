{
  "nbformat": 4,
  "nbformat_minor": 0,
  "metadata": {
    "colab": {
      "name": "Read a file line by line store it into an array.ipynb",
      "provenance": [],
      "authorship_tag": "ABX9TyMnMeavrgknFJiZC2eWawTE",
      "include_colab_link": true
    },
    "kernelspec": {
      "name": "python3",
      "display_name": "Python 3"
    }
  },
  "cells": [
    {
      "cell_type": "markdown",
      "metadata": {
        "id": "view-in-github",
        "colab_type": "text"
      },
      "source": [
        "<a href=\"https://colab.research.google.com/github/Nandu000/Assignments/blob/master/Read_a_file_line_by_line_store_it_into_an_array.ipynb\" target=\"_parent\"><img src=\"https://colab.research.google.com/assets/colab-badge.svg\" alt=\"Open In Colab\"/></a>"
      ]
    },
    {
      "cell_type": "code",
      "metadata": {
        "id": "frxWfaF0lETF",
        "colab_type": "code",
        "colab": {
          "base_uri": "https://localhost:8080/",
          "height": 34
        },
        "outputId": "8d7f0eca-e29a-4856-9698-e2a049b3c0d4"
      },
      "source": [
        "def file_read(fname):\n",
        "        content_array = []\n",
        "        with open(fname) as f:\n",
        "                #Content_list is the list that contains the read lines.     \n",
        "                for line in f:\n",
        "                        content_array.append(line)\n",
        "                print(content_array)\n",
        "\n",
        "file_read(\"nandi.txt\")"
      ],
      "execution_count": 1,
      "outputs": [
        {
          "output_type": "stream",
          "text": [
            "['ramesh\\n', 'nandivardhan reddy\\n', 'narmada\\n', 'rajesh']\n"
          ],
          "name": "stdout"
        }
      ]
    }
  ]
}