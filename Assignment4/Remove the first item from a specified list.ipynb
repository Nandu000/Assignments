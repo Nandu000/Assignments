{
  "nbformat": 4,
  "nbformat_minor": 0,
  "metadata": {
    "colab": {
      "name": "Untitled20.ipynb",
      "provenance": [],
      "authorship_tag": "ABX9TyNi4RWvdiZjcnJDRkvuRzdL",
      "include_colab_link": true
    },
    "kernelspec": {
      "name": "python3",
      "display_name": "Python 3"
    }
  },
  "cells": [
    {
      "cell_type": "markdown",
      "metadata": {
        "id": "view-in-github",
        "colab_type": "text"
      },
      "source": [
        "<a href=\"https://colab.research.google.com/github/Nandu000/Assignments/blob/master/Remove%20the%20first%20item%20from%20a%20specified%20list.ipynb\" target=\"_parent\"><img src=\"https://colab.research.google.com/assets/colab-badge.svg\" alt=\"Open In Colab\"/></a>"
      ]
    },
    {
      "cell_type": "code",
      "metadata": {
        "id": "LVf-APyuwb5m",
        "colab_type": "code",
        "colab": {
          "base_uri": "https://localhost:8080/",
          "height": 84
        },
        "outputId": "24226b0d-d7a8-448e-ed6d-a54fda321282"
      },
      "source": [
        "color = [\"Red\", \"Black\", \"Green\", \"White\", \"Orange\"]\n",
        "print(\"\\nOriginal Color: \",color)\n",
        "del color[0]\n",
        "print(\"After removing the first color: \",color)\n",
        "print()\n"
      ],
      "execution_count": 1,
      "outputs": [
        {
          "output_type": "stream",
          "text": [
            "\n",
            "Original Color:  ['Red', 'Black', 'Green', 'White', 'Orange']\n",
            "After removing the first color:  ['Black', 'Green', 'White', 'Orange']\n",
            "\n"
          ],
          "name": "stdout"
        }
      ]
    }
  ]
}