{
  "nbformat": 4,
  "nbformat_minor": 0,
  "metadata": {
    "colab": {
      "name": " Shuffle and print a specified list.ipynb",
      "provenance": [],
      "authorship_tag": "ABX9TyNG3chWFefHINFcF3wHncHV",
      "include_colab_link": true
    },
    "kernelspec": {
      "name": "python3",
      "display_name": "Python 3"
    }
  },
  "cells": [
    {
      "cell_type": "markdown",
      "metadata": {
        "id": "view-in-github",
        "colab_type": "text"
      },
      "source": [
        "<a href=\"https://colab.research.google.com/github/Nandu000/Assignments/blob/master/Shuffle_and_print_a_specified_list.ipynb\" target=\"_parent\"><img src=\"https://colab.research.google.com/assets/colab-badge.svg\" alt=\"Open In Colab\"/></a>"
      ]
    },
    {
      "cell_type": "code",
      "metadata": {
        "id": "tn_CRw5Gxp-W",
        "colab_type": "code",
        "colab": {
          "base_uri": "https://localhost:8080/",
          "height": 34
        },
        "outputId": "cc0344c4-435c-4597-d1df-55b4cf3f518f"
      },
      "source": [
        "from random import shuffle\n",
        "color = ['Red', 'Green', 'White', 'Black', 'Pink', 'Yellow']\n",
        "shuffle(color)\n",
        "print(color)"
      ],
      "execution_count": 3,
      "outputs": [
        {
          "output_type": "stream",
          "text": [
            "['Yellow', 'Pink', 'Black', 'Green', 'White', 'Red']\n"
          ],
          "name": "stdout"
        }
      ]
    }
  ]
}