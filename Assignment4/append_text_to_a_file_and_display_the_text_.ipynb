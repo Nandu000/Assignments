{
  "nbformat": 4,
  "nbformat_minor": 0,
  "metadata": {
    "colab": {
      "name": " append text to a file and display the text.",
      "provenance": [],
      "authorship_tag": "ABX9TyNlnrN40FUYrspuXTRYZJd9",
      "include_colab_link": true
    },
    "kernelspec": {
      "name": "python3",
      "display_name": "Python 3"
    }
  },
  "cells": [
    {
      "cell_type": "markdown",
      "metadata": {
        "id": "view-in-github",
        "colab_type": "text"
      },
      "source": [
        "<a href=\"https://colab.research.google.com/github/Nandu000/Assignments/blob/master/append_text_to_a_file_and_display_the_text_.ipynb\" target=\"_parent\"><img src=\"https://colab.research.google.com/assets/colab-badge.svg\" alt=\"Open In Colab\"/></a>"
      ]
    },
    {
      "cell_type": "code",
      "metadata": {
        "id": "XU9uiv0VZ4Gc",
        "colab_type": "code",
        "colab": {
          "base_uri": "https://localhost:8080/",
          "height": 50
        },
        "outputId": "164a2a29-9dcd-4255-9e3d-52c2bc9eb21e"
      },
      "source": [
        "def file_read(fname):\n",
        "        from itertools import islice\n",
        "        with open(fname, \"w\") as myfile:\n",
        "                myfile.write(\"Python Exercises\\n\")\n",
        "                myfile.write(\"Java Exercises\")\n",
        "        txt = open(fname)\n",
        "        print(txt.read())\n",
        "file_read('abc.txt')"
      ],
      "execution_count": 1,
      "outputs": [
        {
          "output_type": "stream",
          "text": [
            "Python Exercises\n",
            "Java Exercises\n"
          ],
          "name": "stdout"
        }
      ]
    }
  ]
}