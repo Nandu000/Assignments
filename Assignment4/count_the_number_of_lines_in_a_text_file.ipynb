{
  "nbformat": 4,
  "nbformat_minor": 0,
  "metadata": {
    "colab": {
      "name": "count the number of lines in a text file.ipynb",
      "provenance": [],
      "authorship_tag": "ABX9TyMfL3OMvJkAkHrLPkjO8BpO",
      "include_colab_link": true
    },
    "kernelspec": {
      "name": "python3",
      "display_name": "Python 3"
    }
  },
  "cells": [
    {
      "cell_type": "markdown",
      "metadata": {
        "id": "view-in-github",
        "colab_type": "text"
      },
      "source": [
        "<a href=\"https://colab.research.google.com/github/Nandu000/Assignments/blob/master/count_the_number_of_lines_in_a_text_file.ipynb\" target=\"_parent\"><img src=\"https://colab.research.google.com/assets/colab-badge.svg\" alt=\"Open In Colab\"/></a>"
      ]
    },
    {
      "cell_type": "code",
      "metadata": {
        "id": "QNgoiH6_l6tO",
        "colab_type": "code",
        "colab": {
          "base_uri": "https://localhost:8080/",
          "height": 34
        },
        "outputId": "e4113a91-59a9-4053-a11a-45d4ba3e6963"
      },
      "source": [
        "fname = \"narmada.txt\"\n",
        "count = 0\n",
        "with open(fname, 'r') as f:\n",
        "    for line in f:\n",
        "        count += 1\n",
        "print(\"Total number of lines is:\", count)"
      ],
      "execution_count": 2,
      "outputs": [
        {
          "output_type": "stream",
          "text": [
            "Total number of lines is: 2\n"
          ],
          "name": "stdout"
        }
      ]
    }
  ]
}