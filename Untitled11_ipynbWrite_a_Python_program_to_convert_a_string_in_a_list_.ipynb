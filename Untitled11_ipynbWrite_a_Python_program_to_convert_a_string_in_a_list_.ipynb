{
  "nbformat": 4,
  "nbformat_minor": 0,
  "metadata": {
    "colab": {
      "name": "Untitled11.ipynbWrite a Python program to convert a string in a list.",
      "provenance": [],
      "authorship_tag": "ABX9TyN/UkhBZN656Zubq6tLeSSO",
      "include_colab_link": true
    },
    "kernelspec": {
      "name": "python3",
      "display_name": "Python 3"
    }
  },
  "cells": [
    {
      "cell_type": "markdown",
      "metadata": {
        "id": "view-in-github",
        "colab_type": "text"
      },
      "source": [
        "<a href=\"https://colab.research.google.com/github/Nandu000/Assignments/blob/master/Untitled11_ipynbWrite_a_Python_program_to_convert_a_string_in_a_list_.ipynb\" target=\"_parent\"><img src=\"https://colab.research.google.com/assets/colab-badge.svg\" alt=\"Open In Colab\"/></a>"
      ]
    },
    {
      "cell_type": "code",
      "metadata": {
        "id": "Vu1Z_hdqSZ5y",
        "colab_type": "code",
        "colab": {
          "base_uri": "https://localhost:8080/",
          "height": 34
        },
        "outputId": "a0192461-664d-49dd-c222-c6362e7dca6b"
      },
      "source": [
        "def Convert(string): \n",
        "    li = list(string.split(\" \")) \n",
        "    return li \n",
        "  \n",
        "# Driver code     \n",
        "str1 = \"Geeks for Geeks\"\n",
        "print(Convert(str1)) "
      ],
      "execution_count": 1,
      "outputs": [
        {
          "output_type": "stream",
          "text": [
            "['Geeks', 'for', 'Geeks']\n"
          ],
          "name": "stdout"
        }
      ]
    }
  ]
}