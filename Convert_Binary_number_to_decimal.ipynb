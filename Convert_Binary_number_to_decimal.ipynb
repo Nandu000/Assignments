{
  "nbformat": 4,
  "nbformat_minor": 0,
  "metadata": {
    "colab": {
      "name": "Convert Binary number to decimal ",
      "provenance": [],
      "authorship_tag": "ABX9TyO3AE0+6537TVtxx6D76Euz",
      "include_colab_link": true
    },
    "kernelspec": {
      "name": "python3",
      "display_name": "Python 3"
    }
  },
  "cells": [
    {
      "cell_type": "markdown",
      "metadata": {
        "id": "view-in-github",
        "colab_type": "text"
      },
      "source": [
        "<a href=\"https://colab.research.google.com/github/Nandu000/Assignments/blob/master/Convert_Binary_number_to_decimal.ipynb\" target=\"_parent\"><img src=\"https://colab.research.google.com/assets/colab-badge.svg\" alt=\"Open In Colab\"/></a>"
      ]
    },
    {
      "cell_type": "code",
      "metadata": {
        "id": "E0hlv6btmPZ3",
        "colab_type": "code",
        "colab": {
          "base_uri": "https://localhost:8080/",
          "height": 50
        },
        "outputId": "baa6139e-b531-46a8-a01d-f56953be50af"
      },
      "source": [
        "b_num = list(input(\"Input a binary number: \"))\n",
        "value = 0\n",
        "\n",
        "for i in range(len(b_num)):\n",
        "\tdigit = b_num.pop()\n",
        "\tif digit == '1':\n",
        "\t\tvalue = value + pow(2, i)\n",
        "print(\"The decimal value of the number is\", value)"
      ],
      "execution_count": 1,
      "outputs": [
        {
          "output_type": "stream",
          "text": [
            "Input a binary number: 101011\n",
            "The decimal value of the number is 43\n"
          ],
          "name": "stdout"
        }
      ]
    }
  ]
}