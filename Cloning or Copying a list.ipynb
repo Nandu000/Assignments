{
  "nbformat": 4,
  "nbformat_minor": 0,
  "metadata": {
    "colab": {
      "name": "Untitled18.ipynb",
      "provenance": [],
      "authorship_tag": "ABX9TyM7BVSks9FeT1AQDrEEHaT8",
      "include_colab_link": true
    },
    "kernelspec": {
      "name": "python3",
      "display_name": "Python 3"
    }
  },
  "cells": [
    {
      "cell_type": "markdown",
      "metadata": {
        "id": "view-in-github",
        "colab_type": "text"
      },
      "source": [
        "<a href=\"https://colab.research.google.com/github/Nandu000/Assignments/blob/master/Cloning%20or%20Copying%20a%20list.ipynb\" target=\"_parent\"><img src=\"https://colab.research.google.com/assets/colab-badge.svg\" alt=\"Open In Colab\"/></a>"
      ]
    },
    {
      "cell_type": "code",
      "metadata": {
        "id": "okUZKltyv3K1",
        "colab_type": "code",
        "colab": {
          "base_uri": "https://localhost:8080/",
          "height": 50
        },
        "outputId": "7a9e2573-4ca1-43b1-fea7-52c4ed84e989"
      },
      "source": [
        "def Cloning(li1): \n",
        "    li_copy = li1[:] \n",
        "    return li_copy\n",
        "li1 = [4, 8, 2, 10, 15, 18] \n",
        "li2 = Cloning(li1) \n",
        "print(\"Original List:\", li1) \n",
        "print(\"After Cloning:\", li2) "
      ],
      "execution_count": 1,
      "outputs": [
        {
          "output_type": "stream",
          "text": [
            "Original List: [4, 8, 2, 10, 15, 18]\n",
            "After Cloning: [4, 8, 2, 10, 15, 18]\n"
          ],
          "name": "stdout"
        }
      ]
    }
  ]
}