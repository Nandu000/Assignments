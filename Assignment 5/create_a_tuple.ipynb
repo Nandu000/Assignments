{
  "nbformat": 4,
  "nbformat_minor": 0,
  "metadata": {
    "colab": {
      "name": "create a tuple.ipynb",
      "provenance": [],
      "authorship_tag": "ABX9TyN9zT/kdrHGcZs2Zb89du6y",
      "include_colab_link": true
    },
    "kernelspec": {
      "name": "python3",
      "display_name": "Python 3"
    }
  },
  "cells": [
    {
      "cell_type": "markdown",
      "metadata": {
        "id": "view-in-github",
        "colab_type": "text"
      },
      "source": [
        "<a href=\"https://colab.research.google.com/github/Nandu000/Assignments/blob/master/create_a_tuple.ipynb\" target=\"_parent\"><img src=\"https://colab.research.google.com/assets/colab-badge.svg\" alt=\"Open In Colab\"/></a>"
      ]
    },
    {
      "cell_type": "code",
      "metadata": {
        "id": "3M0S6YCWbonK",
        "colab_type": "code",
        "colab": {}
      },
      "source": [
        "t=5,10,15,20,25\n",
        "print(t)"
      ],
      "execution_count": null,
      "outputs": []
    }
  ]
}