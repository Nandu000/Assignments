{
  "nbformat": 4,
  "nbformat_minor": 0,
  "metadata": {
    "colab": {
      "name": "Reverse a tuple.ipynb",
      "provenance": [],
      "authorship_tag": "ABX9TyNwawZJkdgIDstBKBqQLNZC",
      "include_colab_link": true
    },
    "kernelspec": {
      "name": "python3",
      "display_name": "Python 3"
    }
  },
  "cells": [
    {
      "cell_type": "markdown",
      "metadata": {
        "id": "view-in-github",
        "colab_type": "text"
      },
      "source": [
        "<a href=\"https://colab.research.google.com/github/Nandu000/Assignments/blob/master/Reverse_a_tuple.ipynb\" target=\"_parent\"><img src=\"https://colab.research.google.com/assets/colab-badge.svg\" alt=\"Open In Colab\"/></a>"
      ]
    },
    {
      "cell_type": "code",
      "metadata": {
        "id": "Jxj_CSNdNEXL",
        "colab_type": "code",
        "colab": {
          "base_uri": "https://localhost:8080/",
          "height": 50
        },
        "outputId": "7c2ce603-129f-4fab-d055-009dc4631670"
      },
      "source": [
        "x = (\"w3resource\")\n",
        "y = reversed(x)\n",
        "print(tuple(y))\n",
        "x = (5, 10, 15, 20)\n",
        "y = reversed(x)\n",
        "print(tuple(y))\n"
      ],
      "execution_count": 1,
      "outputs": [
        {
          "output_type": "stream",
          "text": [
            "('e', 'c', 'r', 'u', 'o', 's', 'e', 'r', '3', 'w')\n",
            "(20, 15, 10, 5)\n"
          ],
          "name": "stdout"
        }
      ]
    }
  ]
}