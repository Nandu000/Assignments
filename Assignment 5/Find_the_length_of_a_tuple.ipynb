{
  "nbformat": 4,
  "nbformat_minor": 0,
  "metadata": {
    "colab": {
      "name": "Find the length of a tuple.ipynb",
      "provenance": [],
      "authorship_tag": "ABX9TyMVOecnYnxFbTiU0lVMtYHD",
      "include_colab_link": true
    },
    "kernelspec": {
      "name": "python3",
      "display_name": "Python 3"
    }
  },
  "cells": [
    {
      "cell_type": "markdown",
      "metadata": {
        "id": "view-in-github",
        "colab_type": "text"
      },
      "source": [
        "<a href=\"https://colab.research.google.com/github/Nandu000/Assignments/blob/master/Find_the_length_of_a_tuple.ipynb\" target=\"_parent\"><img src=\"https://colab.research.google.com/assets/colab-badge.svg\" alt=\"Open In Colab\"/></a>"
      ]
    },
    {
      "cell_type": "code",
      "metadata": {
        "id": "JhIh7qIbKSuv",
        "colab_type": "code",
        "colab": {
          "base_uri": "https://localhost:8080/",
          "height": 50
        },
        "outputId": "fb4e5f20-4990-4876-aa88-95b3974c5cb2"
      },
      "source": [
        "tuplex = tuple(\"w3resource\")\n",
        "print(tuplex)\n",
        "print(len(tuplex))"
      ],
      "execution_count": 2,
      "outputs": [
        {
          "output_type": "stream",
          "text": [
            "('w', '3', 'r', 'e', 's', 'o', 'u', 'r', 'c', 'e')\n",
            "10\n"
          ],
          "name": "stdout"
        }
      ]
    }
  ]
}