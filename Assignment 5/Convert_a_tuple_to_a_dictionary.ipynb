{
  "nbformat": 4,
  "nbformat_minor": 0,
  "metadata": {
    "colab": {
      "name": " Convert a tuple to a dictionary.ipynb",
      "provenance": [],
      "authorship_tag": "ABX9TyPgSUJbI7TBhV30x6Chscfv",
      "include_colab_link": true
    },
    "kernelspec": {
      "name": "python3",
      "display_name": "Python 3"
    }
  },
  "cells": [
    {
      "cell_type": "markdown",
      "metadata": {
        "id": "view-in-github",
        "colab_type": "text"
      },
      "source": [
        "<a href=\"https://colab.research.google.com/github/Nandu000/Assignments/blob/master/Convert_a_tuple_to_a_dictionary.ipynb\" target=\"_parent\"><img src=\"https://colab.research.google.com/assets/colab-badge.svg\" alt=\"Open In Colab\"/></a>"
      ]
    },
    {
      "cell_type": "code",
      "metadata": {
        "id": "zRwv7gOoLrpo",
        "colab_type": "code",
        "colab": {
          "base_uri": "https://localhost:8080/",
          "height": 34
        },
        "outputId": "11ed8f1b-772e-4d34-8578-382ba100abb6"
      },
      "source": [
        "tuplex = ((2, \"w\"),(3, \"r\"))\n",
        "print(dict((y, x) for x, y in tuplex))"
      ],
      "execution_count": 1,
      "outputs": [
        {
          "output_type": "stream",
          "text": [
            "{'w': 2, 'r': 3}\n"
          ],
          "name": "stdout"
        }
      ]
    }
  ]
}