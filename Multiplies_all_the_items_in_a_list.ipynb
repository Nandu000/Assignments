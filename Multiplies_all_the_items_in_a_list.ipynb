{
  "nbformat": 4,
  "nbformat_minor": 0,
  "metadata": {
    "colab": {
      "name": "Multiplies all the items in a list.ipynb",
      "provenance": [],
      "authorship_tag": "ABX9TyOmHm56p8v4mu0i+5eS6pk5",
      "include_colab_link": true
    },
    "kernelspec": {
      "name": "python3",
      "display_name": "Python 3"
    }
  },
  "cells": [
    {
      "cell_type": "markdown",
      "metadata": {
        "id": "view-in-github",
        "colab_type": "text"
      },
      "source": [
        "<a href=\"https://colab.research.google.com/github/Nandu000/Assignments/blob/master/Multiplies_all_the_items_in_a_list.ipynb\" target=\"_parent\"><img src=\"https://colab.research.google.com/assets/colab-badge.svg\" alt=\"Open In Colab\"/></a>"
      ]
    },
    {
      "cell_type": "code",
      "metadata": {
        "id": "3xdZUaqgsnqe",
        "colab_type": "code",
        "colab": {
          "base_uri": "https://localhost:8080/",
          "height": 34
        },
        "outputId": "23e22ebf-9f51-477c-c1c9-bbcaaa7b0424"
      },
      "source": [
        "def multiply_list(items):\n",
        "    tot = 1\n",
        "    for x in items:\n",
        "        tot *= x\n",
        "    return tot\n",
        "print(multiply_list([1,3,6]))"
      ],
      "execution_count": 1,
      "outputs": [
        {
          "output_type": "stream",
          "text": [
            "18\n"
          ],
          "name": "stdout"
        }
      ]
    }
  ]
}