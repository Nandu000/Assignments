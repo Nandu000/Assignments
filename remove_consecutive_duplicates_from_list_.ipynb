{
  "nbformat": 4,
  "nbformat_minor": 0,
  "metadata": {
    "colab": {
      "name": " remove consecutive duplicates from list..ipynb",
      "provenance": [],
      "authorship_tag": "ABX9TyNMEwa/q+X7lUKCu9rDbE1M",
      "include_colab_link": true
    },
    "kernelspec": {
      "name": "python3",
      "display_name": "Python 3"
    }
  },
  "cells": [
    {
      "cell_type": "markdown",
      "metadata": {
        "id": "view-in-github",
        "colab_type": "text"
      },
      "source": [
        "<a href=\"https://colab.research.google.com/github/Nandu000/Assignments/blob/master/remove_consecutive_duplicates_from_list_.ipynb\" target=\"_parent\"><img src=\"https://colab.research.google.com/assets/colab-badge.svg\" alt=\"Open In Colab\"/></a>"
      ]
    },
    {
      "cell_type": "code",
      "metadata": {
        "id": "zb4h-SBl0iG5",
        "colab_type": "code",
        "colab": {
          "base_uri": "https://localhost:8080/",
          "height": 34
        },
        "outputId": "8973976e-4c43-4ff1-8491-03bd239ee7bb"
      },
      "source": [
        "x = [1,2,4,7,3,7,8,4,4,9]\n",
        "previous_value = None\n",
        "new_lst = []\n",
        "for elem in x:\n",
        "   if elem != previous_value:\n",
        "       new_lst.append(elem)\n",
        "       previous_value = elem\n",
        "print(new_lst)\n"
      ],
      "execution_count": 2,
      "outputs": [
        {
          "output_type": "stream",
          "text": [
            "[1, 2, 4, 7, 3, 7, 8, 4, 9]\n"
          ],
          "name": "stdout"
        }
      ]
    }
  ]
}