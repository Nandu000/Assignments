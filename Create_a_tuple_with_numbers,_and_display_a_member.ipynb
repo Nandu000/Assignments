{
  "nbformat": 4,
  "nbformat_minor": 0,
  "metadata": {
    "colab": {
      "name": "Create a tuple with numbers, and display a member.ipynb",
      "provenance": [],
      "authorship_tag": "ABX9TyNWZE7BgjOIEYcdNEYAKhnc",
      "include_colab_link": true
    },
    "kernelspec": {
      "name": "python3",
      "display_name": "Python 3"
    }
  },
  "cells": [
    {
      "cell_type": "markdown",
      "metadata": {
        "id": "view-in-github",
        "colab_type": "text"
      },
      "source": [
        "<a href=\"https://colab.research.google.com/github/Nandu000/Assignments/blob/master/Create_a_tuple_with_numbers%2C_and_display_a_member.ipynb\" target=\"_parent\"><img src=\"https://colab.research.google.com/assets/colab-badge.svg\" alt=\"Open In Colab\"/></a>"
      ]
    },
    {
      "cell_type": "code",
      "metadata": {
        "id": "ajGCeOynHejG",
        "colab_type": "code",
        "colab": {
          "base_uri": "https://localhost:8080/",
          "height": 50
        },
        "outputId": "9c53663a-9219-46da-c5b7-a79df6ed338d"
      },
      "source": [
        "tuplex = 5, 10, 15, 20, 25\n",
        "print(tuplex)\n",
        "#Create a tuple of one item\n",
        "tuplex = 5,\n",
        "print(tuplex)"
      ],
      "execution_count": 1,
      "outputs": [
        {
          "output_type": "stream",
          "text": [
            "(5, 10, 15, 20, 25)\n",
            "(5,)\n"
          ],
          "name": "stdout"
        }
      ]
    }
  ]
}